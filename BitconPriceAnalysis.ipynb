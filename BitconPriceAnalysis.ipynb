{
 "cells": [
  {
   "cell_type": "code",
   "execution_count": 6,
   "metadata": {},
   "outputs": [],
   "source": [
    "import requests\n",
    "import pandas as pd"
   ]
  },
  {
   "cell_type": "code",
   "execution_count": 7,
   "metadata": {
    "scrolled": true
   },
   "outputs": [],
   "source": [
    "def get_historic_price(symbol, exchange='bitfinex', after='2018-09-01'):\n",
    "    url = 'https://api.cryptowat.ch/markets/{exchange}/{symbol}usd/ohlc'.format(\n",
    "        symbol=symbol, exchange=exchange)\n",
    "    resp = requests.get(url, params={\n",
    "        'periods': '3600',\n",
    "        'after': str(int(pd.Timestamp(after).timestamp()))\n",
    "    })\n",
    "    resp.raise_for_status()\n",
    "    data = resp.json()\n",
    "    df = pd.DataFrame(data['result']['3600'], columns=[\n",
    "        'CloseTime', 'OpenPrice', 'HighPrice', 'LowPrice', 'ClosePrice', 'Volume', 'NA'\n",
    "    ])\n",
    "    df['CloseTime'] = pd.to_datetime(df['CloseTime'], unit='s')\n",
    "    df.set_index('CloseTime', inplace=True)\n",
    "    return df"
   ]
  },
  {
   "cell_type": "markdown",
   "metadata": {},
   "source": [
    "Pulls data from Bitcoin and Ether for the last 7 days"
   ]
  },
  {
   "cell_type": "code",
   "execution_count": 8,
   "metadata": {},
   "outputs": [
    {
     "data": {
      "text/plain": [
       "Timestamp('2020-08-18 22:21:38.704861')"
      ]
     },
     "execution_count": 8,
     "metadata": {},
     "output_type": "execute_result"
    }
   ],
   "source": [
    "last_week = (pd.Timestamp.now() - pd.offsets.Day(7))\n",
    "last_week"
   ]
  },
  {
   "cell_type": "code",
   "execution_count": 9,
   "metadata": {},
   "outputs": [],
   "source": [
    "btc = get_historic_price('btc','bitstamp', after=last_week)"
   ]
  },
  {
   "cell_type": "code",
   "execution_count": 10,
   "metadata": {},
   "outputs": [],
   "source": [
    "eth = get_historic_price('eth','bitstamp', after=last_week)"
   ]
  },
  {
   "cell_type": "code",
   "execution_count": 11,
   "metadata": {},
   "outputs": [
    {
     "data": {
      "text/html": [
       "<div>\n",
       "<style scoped>\n",
       "    .dataframe tbody tr th:only-of-type {\n",
       "        vertical-align: middle;\n",
       "    }\n",
       "\n",
       "    .dataframe tbody tr th {\n",
       "        vertical-align: top;\n",
       "    }\n",
       "\n",
       "    .dataframe thead th {\n",
       "        text-align: right;\n",
       "    }\n",
       "</style>\n",
       "<table border=\"1\" class=\"dataframe\">\n",
       "  <thead>\n",
       "    <tr style=\"text-align: right;\">\n",
       "      <th></th>\n",
       "      <th>OpenPrice</th>\n",
       "      <th>HighPrice</th>\n",
       "      <th>LowPrice</th>\n",
       "      <th>ClosePrice</th>\n",
       "      <th>Volume</th>\n",
       "      <th>NA</th>\n",
       "    </tr>\n",
       "    <tr>\n",
       "      <th>CloseTime</th>\n",
       "      <th></th>\n",
       "      <th></th>\n",
       "      <th></th>\n",
       "      <th></th>\n",
       "      <th></th>\n",
       "      <th></th>\n",
       "    </tr>\n",
       "  </thead>\n",
       "  <tbody>\n",
       "    <tr>\n",
       "      <th>2020-08-18 23:00:00</th>\n",
       "      <td>12068.62</td>\n",
       "      <td>12099.99</td>\n",
       "      <td>12034.07</td>\n",
       "      <td>12048.83</td>\n",
       "      <td>343.780242</td>\n",
       "      <td>4.145110e+06</td>\n",
       "    </tr>\n",
       "    <tr>\n",
       "      <th>2020-08-19 00:00:00</th>\n",
       "      <td>12048.15</td>\n",
       "      <td>12050.59</td>\n",
       "      <td>11949.28</td>\n",
       "      <td>11958.10</td>\n",
       "      <td>366.843973</td>\n",
       "      <td>4.403090e+06</td>\n",
       "    </tr>\n",
       "    <tr>\n",
       "      <th>2020-08-19 01:00:00</th>\n",
       "      <td>11950.00</td>\n",
       "      <td>12003.41</td>\n",
       "      <td>11925.82</td>\n",
       "      <td>11987.47</td>\n",
       "      <td>291.486622</td>\n",
       "      <td>3.486551e+06</td>\n",
       "    </tr>\n",
       "    <tr>\n",
       "      <th>2020-08-19 02:00:00</th>\n",
       "      <td>11992.37</td>\n",
       "      <td>12022.18</td>\n",
       "      <td>11959.85</td>\n",
       "      <td>11979.00</td>\n",
       "      <td>83.166304</td>\n",
       "      <td>9.980784e+05</td>\n",
       "    </tr>\n",
       "    <tr>\n",
       "      <th>2020-08-19 03:00:00</th>\n",
       "      <td>11974.44</td>\n",
       "      <td>11978.48</td>\n",
       "      <td>11900.00</td>\n",
       "      <td>11919.35</td>\n",
       "      <td>608.771374</td>\n",
       "      <td>7.260582e+06</td>\n",
       "    </tr>\n",
       "  </tbody>\n",
       "</table>\n",
       "</div>"
      ],
      "text/plain": [
       "                     OpenPrice  HighPrice  LowPrice  ClosePrice      Volume  \\\n",
       "CloseTime                                                                     \n",
       "2020-08-18 23:00:00   12068.62   12099.99  12034.07    12048.83  343.780242   \n",
       "2020-08-19 00:00:00   12048.15   12050.59  11949.28    11958.10  366.843973   \n",
       "2020-08-19 01:00:00   11950.00   12003.41  11925.82    11987.47  291.486622   \n",
       "2020-08-19 02:00:00   11992.37   12022.18  11959.85    11979.00   83.166304   \n",
       "2020-08-19 03:00:00   11974.44   11978.48  11900.00    11919.35  608.771374   \n",
       "\n",
       "                               NA  \n",
       "CloseTime                          \n",
       "2020-08-18 23:00:00  4.145110e+06  \n",
       "2020-08-19 00:00:00  4.403090e+06  \n",
       "2020-08-19 01:00:00  3.486551e+06  \n",
       "2020-08-19 02:00:00  9.980784e+05  \n",
       "2020-08-19 03:00:00  7.260582e+06  "
      ]
     },
     "execution_count": 11,
     "metadata": {},
     "output_type": "execute_result"
    }
   ],
   "source": [
    "btc.head()"
   ]
  },
  {
   "cell_type": "code",
   "execution_count": 13,
   "metadata": {},
   "outputs": [
    {
     "data": {
      "text/plain": [
       "<AxesSubplot:xlabel='CloseTime'>"
      ]
     },
     "execution_count": 13,
     "metadata": {},
     "output_type": "execute_result"
    },
    {
     "data": {
      "image/png": "[encoded data removed]",
      "text/plain": [
       "<Figure size 1080x504 with 1 Axes>"
      ]
     },
     "metadata": {
      "needs_background": "light"
     },
     "output_type": "display_data"
    }
   ],
   "source": [
    "btc['ClosePrice'].plot(figsize=(15,7))"
   ]
  },
  {
   "cell_type": "code",
   "execution_count": 14,
   "metadata": {},
   "outputs": [
    {
     "data": {
      "text/html": [
       "<div>\n",
       "<style scoped>\n",
       "    .dataframe tbody tr th:only-of-type {\n",
       "        vertical-align: middle;\n",
       "    }\n",
       "\n",
       "    .dataframe tbody tr th {\n",
       "        vertical-align: top;\n",
       "    }\n",
       "\n",
       "    .dataframe thead th {\n",
       "        text-align: right;\n",
       "    }\n",
       "</style>\n",
       "<table border=\"1\" class=\"dataframe\">\n",
       "  <thead>\n",
       "    <tr style=\"text-align: right;\">\n",
       "      <th></th>\n",
       "      <th>OpenPrice</th>\n",
       "      <th>HighPrice</th>\n",
       "      <th>LowPrice</th>\n",
       "      <th>ClosePrice</th>\n",
       "      <th>Volume</th>\n",
       "      <th>NA</th>\n",
       "    </tr>\n",
       "    <tr>\n",
       "      <th>CloseTime</th>\n",
       "      <th></th>\n",
       "      <th></th>\n",
       "      <th></th>\n",
       "      <th></th>\n",
       "      <th></th>\n",
       "      <th></th>\n",
       "    </tr>\n",
       "  </thead>\n",
       "  <tbody>\n",
       "    <tr>\n",
       "      <th>2020-08-18 23:00:00</th>\n",
       "      <td>427.90</td>\n",
       "      <td>428.32</td>\n",
       "      <td>424.73</td>\n",
       "      <td>425.57</td>\n",
       "      <td>826.954065</td>\n",
       "      <td>3.527664e+05</td>\n",
       "    </tr>\n",
       "    <tr>\n",
       "      <th>2020-08-19 00:00:00</th>\n",
       "      <td>425.08</td>\n",
       "      <td>425.26</td>\n",
       "      <td>422.06</td>\n",
       "      <td>422.09</td>\n",
       "      <td>873.909831</td>\n",
       "      <td>3.700950e+05</td>\n",
       "    </tr>\n",
       "    <tr>\n",
       "      <th>2020-08-19 01:00:00</th>\n",
       "      <td>422.15</td>\n",
       "      <td>424.77</td>\n",
       "      <td>420.24</td>\n",
       "      <td>424.69</td>\n",
       "      <td>2537.394849</td>\n",
       "      <td>1.074725e+06</td>\n",
       "    </tr>\n",
       "    <tr>\n",
       "      <th>2020-08-19 02:00:00</th>\n",
       "      <td>425.00</td>\n",
       "      <td>426.82</td>\n",
       "      <td>422.74</td>\n",
       "      <td>423.57</td>\n",
       "      <td>1227.568436</td>\n",
       "      <td>5.221535e+05</td>\n",
       "    </tr>\n",
       "    <tr>\n",
       "      <th>2020-08-19 03:00:00</th>\n",
       "      <td>423.45</td>\n",
       "      <td>423.45</td>\n",
       "      <td>419.33</td>\n",
       "      <td>420.72</td>\n",
       "      <td>915.797979</td>\n",
       "      <td>3.858716e+05</td>\n",
       "    </tr>\n",
       "  </tbody>\n",
       "</table>\n",
       "</div>"
      ],
      "text/plain": [
       "                     OpenPrice  HighPrice  LowPrice  ClosePrice       Volume  \\\n",
       "CloseTime                                                                      \n",
       "2020-08-18 23:00:00     427.90     428.32    424.73      425.57   826.954065   \n",
       "2020-08-19 00:00:00     425.08     425.26    422.06      422.09   873.909831   \n",
       "2020-08-19 01:00:00     422.15     424.77    420.24      424.69  2537.394849   \n",
       "2020-08-19 02:00:00     425.00     426.82    422.74      423.57  1227.568436   \n",
       "2020-08-19 03:00:00     423.45     423.45    419.33      420.72   915.797979   \n",
       "\n",
       "                               NA  \n",
       "CloseTime                          \n",
       "2020-08-18 23:00:00  3.527664e+05  \n",
       "2020-08-19 00:00:00  3.700950e+05  \n",
       "2020-08-19 01:00:00  1.074725e+06  \n",
       "2020-08-19 02:00:00  5.221535e+05  \n",
       "2020-08-19 03:00:00  3.858716e+05  "
      ]
     },
     "execution_count": 14,
     "metadata": {},
     "output_type": "execute_result"
    }
   ],
   "source": [
    "eth.head()"
   ]
  },
  {
   "cell_type": "code",
   "execution_count": 15,
   "metadata": {},
   "outputs": [
    {
     "data": {
      "text/plain": [
       "<AxesSubplot:xlabel='CloseTime'>"
      ]
     },
     "execution_count": 15,
     "metadata": {},
     "output_type": "execute_result"
    },
    {
     "data": {
      "image/png": "[encoded data removed]",
      "text/plain": [
       "<Figure size 1080x504 with 1 Axes>"
      ]
     },
     "metadata": {
      "needs_background": "light"
     },
     "output_type": "display_data"
    }
   ],
   "source": [
    "eth['ClosePrice'].plot(figsize=(15,7))"
   ]
  },
  {
   "cell_type": "code",
   "execution_count": 16,
   "metadata": {},
   "outputs": [
    {
     "data": {
      "text/html": [
       "<div>\n",
       "<style scoped>\n",
       "    .dataframe tbody tr th:only-of-type {\n",
       "        vertical-align: middle;\n",
       "    }\n",
       "\n",
       "    .dataframe tbody tr th {\n",
       "        vertical-align: top;\n",
       "    }\n",
       "\n",
       "    .dataframe thead th {\n",
       "        text-align: right;\n",
       "    }\n",
       "</style>\n",
       "<table border=\"1\" class=\"dataframe\">\n",
       "  <thead>\n",
       "    <tr style=\"text-align: right;\">\n",
       "      <th></th>\n",
       "      <th>OpenPrice</th>\n",
       "      <th>HighPrice</th>\n",
       "      <th>LowPrice</th>\n",
       "      <th>ClosePrice</th>\n",
       "      <th>Volume</th>\n",
       "      <th>NA</th>\n",
       "    </tr>\n",
       "  </thead>\n",
       "  <tbody>\n",
       "    <tr>\n",
       "      <th>count</th>\n",
       "      <td>165.000000</td>\n",
       "      <td>165.000000</td>\n",
       "      <td>165.000000</td>\n",
       "      <td>165.000000</td>\n",
       "      <td>165.000000</td>\n",
       "      <td>1.650000e+02</td>\n",
       "    </tr>\n",
       "    <tr>\n",
       "      <th>mean</th>\n",
       "      <td>11697.777576</td>\n",
       "      <td>11728.218727</td>\n",
       "      <td>11658.473939</td>\n",
       "      <td>11692.864242</td>\n",
       "      <td>207.999950</td>\n",
       "      <td>2.430587e+06</td>\n",
       "    </tr>\n",
       "    <tr>\n",
       "      <th>std</th>\n",
       "      <td>131.842041</td>\n",
       "      <td>130.952619</td>\n",
       "      <td>138.523394</td>\n",
       "      <td>132.379938</td>\n",
       "      <td>187.634317</td>\n",
       "      <td>2.177721e+06</td>\n",
       "    </tr>\n",
       "    <tr>\n",
       "      <th>min</th>\n",
       "      <td>11222.500000</td>\n",
       "      <td>11311.440000</td>\n",
       "      <td>11112.750000</td>\n",
       "      <td>11225.780000</td>\n",
       "      <td>24.548298</td>\n",
       "      <td>2.886566e+05</td>\n",
       "    </tr>\n",
       "    <tr>\n",
       "      <th>25%</th>\n",
       "      <td>11608.000000</td>\n",
       "      <td>11634.740000</td>\n",
       "      <td>11582.340000</td>\n",
       "      <td>11606.080000</td>\n",
       "      <td>83.166304</td>\n",
       "      <td>9.980784e+05</td>\n",
       "    </tr>\n",
       "    <tr>\n",
       "      <th>50%</th>\n",
       "      <td>11708.420000</td>\n",
       "      <td>11753.640000</td>\n",
       "      <td>11663.590000</td>\n",
       "      <td>11705.210000</td>\n",
       "      <td>144.874017</td>\n",
       "      <td>1.692255e+06</td>\n",
       "    </tr>\n",
       "    <tr>\n",
       "      <th>75%</th>\n",
       "      <td>11781.750000</td>\n",
       "      <td>11810.710000</td>\n",
       "      <td>11749.390000</td>\n",
       "      <td>11780.000000</td>\n",
       "      <td>259.045996</td>\n",
       "      <td>3.068492e+06</td>\n",
       "    </tr>\n",
       "    <tr>\n",
       "      <th>max</th>\n",
       "      <td>12068.620000</td>\n",
       "      <td>12099.990000</td>\n",
       "      <td>12034.070000</td>\n",
       "      <td>12048.830000</td>\n",
       "      <td>1080.718517</td>\n",
       "      <td>1.215107e+07</td>\n",
       "    </tr>\n",
       "  </tbody>\n",
       "</table>\n",
       "</div>"
      ],
      "text/plain": [
       "          OpenPrice     HighPrice      LowPrice    ClosePrice       Volume  \\\n",
       "count    165.000000    165.000000    165.000000    165.000000   165.000000   \n",
       "mean   11697.777576  11728.218727  11658.473939  11692.864242   207.999950   \n",
       "std      131.842041    130.952619    138.523394    132.379938   187.634317   \n",
       "min    11222.500000  11311.440000  11112.750000  11225.780000    24.548298   \n",
       "25%    11608.000000  11634.740000  11582.340000  11606.080000    83.166304   \n",
       "50%    11708.420000  11753.640000  11663.590000  11705.210000   144.874017   \n",
       "75%    11781.750000  11810.710000  11749.390000  11780.000000   259.045996   \n",
       "max    12068.620000  12099.990000  12034.070000  12048.830000  1080.718517   \n",
       "\n",
       "                 NA  \n",
       "count  1.650000e+02  \n",
       "mean   2.430587e+06  \n",
       "std    2.177721e+06  \n",
       "min    2.886566e+05  \n",
       "25%    9.980784e+05  \n",
       "50%    1.692255e+06  \n",
       "75%    3.068492e+06  \n",
       "max    1.215107e+07  "
      ]
     },
     "execution_count": 16,
     "metadata": {},
     "output_type": "execute_result"
    }
   ],
   "source": [
    "btc.describe()"
   ]
  },
  {
   "cell_type": "code",
   "execution_count": null,
   "metadata": {},
   "outputs": [],
   "source": []
  },
  {
   "cell_type": "code",
   "execution_count": null,
   "metadata": {},
   "outputs": [],
   "source": []
  }
 ],
 "metadata": {
  "kernelspec": {
   "display_name": "Python 3",
   "language": "python",
   "name": "python3"
  },
  "language_info": {
   "codemirror_mode": {
    "name": "ipython",
    "version": 3
   },
   "file_extension": ".py",
   "mimetype": "text/x-python",
   "name": "python",
   "nbconvert_exporter": "python",
   "pygments_lexer": "ipython3",
   "version": "3.8.2"
  }
 },
 "nbformat": 4,
 "nbformat_minor": 4
}
